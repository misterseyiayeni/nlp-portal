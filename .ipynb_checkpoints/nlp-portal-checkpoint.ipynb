{
 "cells": [
  {
   "cell_type": "code",
   "execution_count": 5,
   "id": "0c453490-9bd6-425c-9a92-3d1abab75e8d",
   "metadata": {},
   "outputs": [
    {
     "name": "stdout",
     "output_type": "stream",
     "text": [
      "Defaulting to user installation because normal site-packages is not writeable\n",
      "Collecting pydub\n",
      "  Downloading pydub-0.25.1-py2.py3-none-any.whl.metadata (1.4 kB)\n",
      "Downloading pydub-0.25.1-py2.py3-none-any.whl (32 kB)\n",
      "Installing collected packages: pydub\n",
      "Successfully installed pydub-0.25.1\n"
     ]
    }
   ],
   "source": [
    "# !pip install boto3\n",
    "# ! pip install pydub"
   ]
  },
  {
   "cell_type": "code",
   "execution_count": 17,
   "id": "566611af-0f89-475e-b9d8-94538a95c360",
   "metadata": {},
   "outputs": [],
   "source": [
    "import io\n",
    "import json\n",
    "import boto3\n",
    "from pydub import AudioSegment\n",
    "from pydub.playback import play"
   ]
  },
  {
   "cell_type": "code",
   "execution_count": 21,
   "id": "34df84db-c6b9-46cf-8cdf-4ea6ec6d650f",
   "metadata": {},
   "outputs": [],
   "source": [
    "class Translator:\n",
    "    def __init__(self, region_name='us-east-1'):\n",
    "        \"\"\"\n",
    "        Initializes the Translator with boto3 clients for Bedrock, Polly, and Transcribe.\n",
    "        \"\"\"\n",
    "        self.bedrock_runtime = boto3.client('bedrock-runtime', region_name=region_name)\n",
    "        self.polly = boto3.client('polly', region_name=region_name)\n",
    "        self.transcribe = boto3.client('transcribe', region_name=region_name)\n",
    "\n",
    "    def translate_text(self, text: str, source_lang: str, target_lang: str) -> str:\n",
    "        \"\"\"\n",
    "        Translates text from a source language to a target language using an LLM on Bedrock.\n",
    "        \"\"\"\n",
    "        prompt = f\"Translate the following text from {source_lang} to {target_lang}: {text}\"\n",
    "\n",
    "        body = json.dumps({\n",
    "            \"prompt\": f\"\\n\\nHuman: {prompt}\\n\\nAssistant:\",\n",
    "            \"max_tokens_to_sample\": 300,\n",
    "            \"temperature\": 0.1,\n",
    "            \"top_p\": 0.9,\n",
    "        })\n",
    "\n",
    "        modelId = 'anthropic.claude-v2'\n",
    "        accept = 'application/json'\n",
    "        contentType = 'application/json'\n",
    "\n",
    "        try:\n",
    "            response = self.bedrock_runtime.invoke_model(body=body, modelId=modelId, accept=accept, contentType=contentType)\n",
    "            result = json.loads(response.get('body').read())\n",
    "            return result.get('completion').strip()\n",
    "        except Exception as e:\n",
    "            print(f\"Error invoking model: {e}\")\n",
    "            return \"\"\n",
    "\n",
    "    def text_to_speech(self, text: str, voice_id: str = 'Joanna') -> io.BytesIO:\n",
    "        \"\"\"\n",
    "        Converts text to speech using Amazon Polly.\n",
    "        \"\"\"\n",
    "        try:\n",
    "            response = self.polly.synthesize_speech(Text=text, OutputFormat='mp3', VoiceId=voice_id)\n",
    "            return io.BytesIO(response['AudioStream'].read())\n",
    "        except Exception as e:\n",
    "            print(f\"Error in text-to-speech conversion: {e}\")\n",
    "            return None\n",
    "\n",
    "    def speech_to_text(self, audio_file_path: str, language_code: str) -> str:\n",
    "        \"\"\"\n",
    "        Transcribes speech from an audio file to text using Amazon Transcribe.\n",
    "        \"\"\"\n",
    "        job_name = \"transcription-job-\" + str(hash(audio_file_path))\n",
    "        s3 = boto3.client('s3')\n",
    "        bucket_name = 'your-s3-bucket-for-transcribe' # 👈 **Replace with your S3 bucket name**\n",
    "        s3_key = f\"audio/{job_name}.mp3\"\n",
    "\n",
    "        try:\n",
    "            s3.upload_file(audio_file_path, bucket_name, s3_key)\n",
    "\n",
    "            self.transcribe.start_transcription_job(\n",
    "                TranscriptionJobName=job_name,\n",
    "                Media={'MediaFileUri': f's3://{bucket_name}/{s3_key}'},\n",
    "                MediaFormat='mp3',\n",
    "                LanguageCode=language_code\n",
    "            )\n",
    "\n",
    "            while True:\n",
    "                status = self.transcribe.get_transcription_job(TranscriptionJobName=job_name)\n",
    "                if status['TranscriptionJob']['TranscriptionJobStatus'] in ['COMPLETED', 'FAILED']:\n",
    "                    break\n",
    "            \n",
    "            if status['TranscriptionJob']['TranscriptionJobStatus'] == 'COMPLETED':\n",
    "                response = s3.get_object(Bucket=bucket_name, Key=f\"{job_name}.json\")\n",
    "                result = json.loads(response['Body'].read().decode('utf-8'))\n",
    "                return result['results']['transcripts'][0]['transcript']\n",
    "            else:\n",
    "                return \"Transcription failed.\"\n",
    "        except Exception as e:\n",
    "            print(f\"Error in speech-to-text conversion: {e}\")\n",
    "            return \"\"\n",
    "\n",
    "\n",
    "    def translate_voice(self, audio_file_path: str, source_lang_code: str, target_lang: str, target_lang_voice_id: str):\n",
    "        \"\"\"\n",
    "        Performs voice-to-voice translation.\n",
    "        \"\"\"\n",
    "        # 1. Transcribe the input audio\n",
    "        transcribed_text = self.speech_to_text(audio_file_path, source_lang_code)\n",
    "        if not transcribed_text:\n",
    "            print(\"Could not transcribe the audio.\")\n",
    "            return\n",
    "\n",
    "        print(f\"Transcribed Text: {transcribed_text}\")\n",
    "\n",
    "        # 2. Translate the transcribed text\n",
    "        translated_text = self.translate_text(transcribed_text, source_lang_code.split('-')[0], target_lang)\n",
    "        if not translated_text:\n",
    "            print(\"Could not translate the text.\")\n",
    "            return\n",
    "\n",
    "        print(f\"Translated Text: {translated_text}\")\n",
    "\n",
    "        # 3. Convert the translated text to speech\n",
    "        translated_audio = self.text_to_speech(translated_text, target_lang_voice_id)\n",
    "        if translated_audio:\n",
    "            print(\"Playing translated audio...\")\n",
    "            audio = AudioSegment.from_mp3(translated_audio)\n",
    "            play(audio)"
   ]
  },
  {
   "cell_type": "code",
   "execution_count": 22,
   "id": "d705f7ba-2a6a-4518-8ed1-1f21e3a7cf8c",
   "metadata": {},
   "outputs": [],
   "source": [
    "# Initialize the class\n",
    "translator = Translator()"
   ]
  },
  {
   "cell_type": "code",
   "execution_count": 23,
   "id": "662d265d-8a52-4d28-a1df-7d339e38841c",
   "metadata": {},
   "outputs": [
    {
     "name": "stdout",
     "output_type": "stream",
     "text": [
      "Error invoking model: An error occurred (AccessDeniedException) when calling the InvokeModel operation: You don't have access to the model with the specified model ID.\n",
      "Original: Hello, how are you?\n",
      "Translated: \n",
      "--------------------\n"
     ]
    }
   ],
   "source": [
    "# --- Text-to-Text Translation Example ---\n",
    "text_to_translate = \"Hello, how are you?\"\n",
    "source_language = \"English\"\n",
    "target_language = \"Spanish\"\n",
    "translated_text = translator.translate_text(text_to_translate, source_language, target_language)\n",
    "print(f\"Original: {text_to_translate}\")\n",
    "print(f\"Translated: {translated_text}\")\n",
    "\n",
    "print(\"-\" * 20)"
   ]
  },
  {
   "cell_type": "code",
   "execution_count": null,
   "id": "9a9b3585-3d35-434f-a911-cfe3c2142cf9",
   "metadata": {},
   "outputs": [],
   "source": [
    "# --- Voice-to-Voice Translation Example ---\n",
    "# You will need an mp3 audio file for this part.\n",
    "# For example, create a file named 'input.mp3' with a recording of \"Hello, how are you?\" in English.\n",
    "input_audio_file = 'input.mp3'\n",
    "source_language_code_transcribe = 'en-US'  # For Transcribe\n",
    "target_language_polly = 'Spanish'          # For the LLM\n",
    "target_voice_id_polly = 'Lucia'            # Spanish voice in Polly\n",
    "\n",
    "# Create a dummy audio file for testing if you don't have one\n",
    "try:\n",
    "    with open(input_audio_file, 'wb') as f:\n",
    "        # A very short, silent mp3 file for demonstration purposes.\n",
    "        # Replace this with a real audio file.\n",
    "        f.write(b'\\xFF\\xFB\\x90\\x40\\x00\\x00\\x00\\x00\\x00\\x00\\x00\\x00\\x00\\x00\\x00\\x00\\x00\\x00\\x00\\x00\\x00\\x00\\x00\\x00\\x00\\x00\\x00\\x00\\x00\\x00\\x00\\x00\\x00\\x00\\x00\\x00\\x00\\x00\\x00\\x00\\x00\\x00\\x00\\x00\\x00\\x00\\x00\\x00\\x00\\x00\\x00\\x00\\x00\\x00\\x00\\x00\\x00\\x00\\x00\\x00\\x00\\x00\\x00\\x00\\x00\\x00\\x00\\x00\\x00\\x00\\x00\\x00\\x00\\x00\\x00\\x00\\x00\\x00\\x00\\x00\\x00\\x00\\x00\\x00\\x00\\x00\\x00\\x00\\x00\\x00\\x00\\x00\\x00\\x00\\x00\\x00\\x00\\x00\\x00\\x00')\n",
    "    print(f\"Created a dummy audio file: {input_audio_file}\")\n",
    "    \n",
    "    # Uncomment the line below to run the voice translation\n",
    "    # translator.translate_voice(input_audio_file, source_language_code_transcribe, target_language_polly, target_voice_id_polly)\n",
    "\n",
    "except Exception as e:\n",
    "    print(f\"Could not create dummy audio file. Please provide your own '{input_audio_file}'. Error: {e}\")"
   ]
  }
 ],
 "metadata": {
  "kernelspec": {
   "display_name": "Python 3 (ipykernel)",
   "language": "python",
   "name": "python3"
  },
  "language_info": {
   "codemirror_mode": {
    "name": "ipython",
    "version": 3
   },
   "file_extension": ".py",
   "mimetype": "text/x-python",
   "name": "python",
   "nbconvert_exporter": "python",
   "pygments_lexer": "ipython3",
   "version": "3.9.6"
  }
 },
 "nbformat": 4,
 "nbformat_minor": 5
}
